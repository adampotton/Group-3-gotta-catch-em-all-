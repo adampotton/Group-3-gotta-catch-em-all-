{
  "nbformat": 4,
  "nbformat_minor": 0,
  "metadata": {
    "colab": {
      "provenance": [],
      "gpuType": "T4",
      "include_colab_link": true
    },
    "kernelspec": {
      "name": "python3",
      "display_name": "Python 3"
    },
    "language_info": {
      "name": "python"
    },
    "accelerator": "GPU"
  },
  "cells": [
    {
      "cell_type": "markdown",
      "metadata": {
        "id": "view-in-github",
        "colab_type": "text"
      },
      "source": [
        "<a href=\"https://colab.research.google.com/github/adampotton/Group-3-gotta-catch-em-all-/blob/main/Model_2.ipynb\" target=\"_parent\"><img src=\"https://colab.research.google.com/assets/colab-badge.svg\" alt=\"Open In Colab\"/></a>"
      ]
    },
    {
      "cell_type": "code",
      "source": [
        "import torch\n",
        "import torch.nn as nn\n",
        "import torch.optim as optim\n",
        "from torch.utils.data import DataLoader, TensorDataset\n",
        "import torchvision.transforms as transforms\n",
        "from torchvision.transforms import ToPILImage\n",
        "import matplotlib.pyplot as plt\n",
        "import numpy as np\n",
        "from google.colab import files\n",
        "from PIL import Image\n",
        "import random\n",
        "import os\n",
        "from google.colab import drive\n",
        "from sklearn.model_selection import train_test_split\n",
        "drive.mount('/content/drive')\n",
        "torch.manual_seed(4)\n",
        "device = torch.device('cuda' if torch.cuda.is_available() else 'cpu')"
      ],
      "metadata": {
        "colab": {
          "base_uri": "https://localhost:8080/"
        },
        "id": "hinq2qAYfL8t",
        "outputId": "263ae5cb-f604-472b-c5a9-9c6177a4cd93"
      },
      "execution_count": null,
      "outputs": [
        {
          "output_type": "stream",
          "name": "stdout",
          "text": [
            "Mounted at /content/drive\n"
          ]
        }
      ]
    },
    {
      "cell_type": "code",
      "source": [
        "root_directory = \"/content/drive/My Drive/5Pokemon\"\n",
        "\n",
        "# Create a dictionary to store image arrays, using folder names as keys\n",
        "image_arrays_dict = {}\n",
        "\n",
        "# Define a common size for resizing images\n",
        "common_size = (224, 224, 3)  # Common size for RGB images\n",
        "\n",
        "# Loop through each folder in the root directory\n",
        "for folder_name in os.listdir(root_directory):\n",
        "    folder_path = os.path.join(root_directory, folder_name)\n",
        "    if os.path.isdir(folder_path):\n",
        "        image_arrays = []\n",
        "        for filename in os.listdir(folder_path):\n",
        "            if filename.lower().endswith((\".jpg\", \".png\")):\n",
        "                image_path = os.path.join(folder_path, filename)\n",
        "                img = Image.open(image_path).convert(\"RGB\")  # Convert to RGB format\n",
        "                img_resized = img.resize((common_size[1], common_size[0]), Image.ANTIALIAS)\n",
        "                img_array = np.array(img_resized)\n",
        "                image_arrays.append(img_array)\n",
        "        image_arrays = np.array(image_arrays)\n",
        "        image_arrays_dict[folder_name] = image_arrays\n",
        "\n",
        "# Combine all image arrays into a single array\n",
        "all_images = np.concatenate(list(image_arrays_dict.values()), axis=0)\n",
        "\n",
        "pokemon_classes = []\n",
        "num_images_per_class = []\n",
        "\n",
        "for folder_name, image_array in image_arrays_dict.items():\n",
        "    print(f\"Shape of the image array for folder '{folder_name}': {image_array.shape}\")\n",
        "    pokemon_classes.append(folder_name)\n",
        "    shap = (image_array.shape)\n",
        "    num_images_per_class.append(shap[0])\n",
        "print(pokemon_classes)\n",
        "print(num_images_per_class)"
      ],
      "metadata": {
        "colab": {
          "base_uri": "https://localhost:8080/"
        },
        "id": "8AGAIgoWfL1R",
        "outputId": "e6246a20-21bd-40b5-8f17-a767eb278bbd"
      },
      "execution_count": null,
      "outputs": [
        {
          "output_type": "stream",
          "name": "stderr",
          "text": [
            "<ipython-input-213-b7cebd6f5f3d>:18: DeprecationWarning: ANTIALIAS is deprecated and will be removed in Pillow 10 (2023-07-01). Use LANCZOS or Resampling.LANCZOS instead.\n",
            "  img_resized = img.resize((common_size[1], common_size[0]), Image.ANTIALIAS)\n"
          ]
        },
        {
          "output_type": "stream",
          "name": "stdout",
          "text": [
            "Shape of the image array for folder 'Charmander': (51, 224, 224, 3)\n",
            "Shape of the image array for folder 'Eevee': (37, 224, 224, 3)\n",
            "Shape of the image array for folder 'Pikachu': (60, 224, 224, 3)\n",
            "Shape of the image array for folder 'Squirtle': (52, 224, 224, 3)\n",
            "Shape of the image array for folder 'Bulbasaur (1)': (41, 224, 224, 3)\n",
            "['Charmander', 'Eevee', 'Pikachu', 'Squirtle', 'Bulbasaur (1)']\n",
            "[51, 37, 60, 52, 41]\n"
          ]
        }
      ]
    },
    {
      "cell_type": "code",
      "source": [
        "all_labels = np.concatenate([np.full(num, i) for i, num in enumerate(num_images_per_class)])\n",
        "\n",
        "train_images, test_images, train_labels, test_labels = train_test_split(all_images, all_labels, test_size=0.2, random_state=42, stratify=all_labels)\n",
        "# Assuming you have the image arrays stored in 'all_images' and corresponding labels in 'all_labels'\n",
        "# Make sure 'all_images' and 'all_labels' are NumPy arrays\n",
        "print(train_images.shape)\n",
        "train_images_tensor = torch.tensor(train_images, dtype=torch.float32)\n",
        "train_labels_tensor = torch.tensor(train_labels, dtype=torch.long)\n",
        "test_images_tensor = torch.tensor(test_images, dtype=torch.float32)\n",
        "test_labels_tensor = torch.tensor(test_labels, dtype=torch.long)\n",
        "\n",
        "# Create PyTorch datasets for training and testing\n",
        "train_dataset = TensorDataset(train_images_tensor, train_labels_tensor)\n",
        "test_dataset = TensorDataset(test_images_tensor, test_labels_tensor)\n",
        "\n",
        "batch_size = 32\n",
        "train_loader = DataLoader(train_dataset, batch_size=batch_size, shuffle=True)\n",
        "test_loader = DataLoader(test_dataset, batch_size=batch_size, shuffle=True)\n",
        "# Create data loaders\n",
        "\n",
        "# Number of classes for your Pokémon images\n",
        "num_classes = 5\n",
        "\n",
        "# Number of input channels in your Pokémon images\n",
        "num_input_channels = 3  # Assuming RGB images\n",
        "\n",
        "\n",
        "# Define a simpler model\n",
        "model = nn.Sequential(\n",
        "    nn.Conv2d(3, 16, kernel_size=3, padding=1),\n",
        "    nn.BatchNorm2d(16),\n",
        "    nn.ReLU(),\n",
        "    nn.Dropout(0.2),\n",
        "    nn.MaxPool2d(2),\n",
        "    nn.Conv2d(16, 32, kernel_size=3, padding=1),\n",
        "    nn.BatchNorm2d(32),\n",
        "    nn.ReLU(),\n",
        "    nn.Dropout(0.2),\n",
        "    nn.MaxPool2d(2),\n",
        "    nn.Conv2d(32, 32, kernel_size=3, padding=1),\n",
        "    nn.BatchNorm2d(32),\n",
        "    nn.ReLU(),\n",
        "    nn.Flatten(),\n",
        "    nn.Linear(32 * 56 * 56, 128),\n",
        "    nn.ReLU(),\n",
        "    nn.Linear(128, num_classes)\n",
        ")\n",
        "\n",
        "model = model.to(device)\n",
        "\n",
        "# Define optimizer and loss function\n",
        "optimizer = optim.Adam(model.parameters(), lr=0.001)\n",
        "criterion = nn.CrossEntropyLoss()\n",
        "\n",
        "# Train the model\n",
        "def train():\n",
        "    model.train()\n",
        "    for images, labels in train_loader:\n",
        "        # Move tensors to the configured device\n",
        "        images = images.to(device)\n",
        "        labels = labels.to(device)\n",
        "\n",
        "        # Forward pass\n",
        "        logits = model(images.permute(0, 3, 1, 2))\n",
        "\n",
        "        # Compute the loss\n",
        "        loss = criterion(logits, labels)\n",
        "\n",
        "        # Backpropagation and optimization\n",
        "        optimizer.zero_grad()\n",
        "        loss.backward()\n",
        "        optimizer.step()\n",
        "\n",
        "# Define testing function\n",
        "def test(epoch):\n",
        "    model.eval()\n",
        "    with torch.no_grad():\n",
        "        correct = 0\n",
        "        total = 0\n",
        "        for images, labels in test_loader:\n",
        "            # Move tensors to the configured device\n",
        "            images = images.to(device)\n",
        "            labels = labels.to(device)\n",
        "\n",
        "            # Forward pass\n",
        "            logits = model(images.permute(0, 3, 1, 2))\n",
        "\n",
        "            # Compute total correct so far\n",
        "            predicted = torch.argmax(logits, dim=1)\n",
        "            correct += (predicted == labels).sum().item()\n",
        "            total += labels.size(0)\n",
        "        print(f'Test accuracy after {epoch+1} epochs: {100 * correct / total:.2f}%')\n",
        "\n",
        "# Run training\n",
        "num_epochs = 10\n",
        "for epoch in range(num_epochs):\n",
        "    train()\n",
        "    test(epoch)\n"
      ],
      "metadata": {
        "colab": {
          "base_uri": "https://localhost:8080/"
        },
        "id": "rVoN5R32nJa2",
        "outputId": "7d629354-47de-4e7e-c14f-03b70b0991f4"
      },
      "execution_count": null,
      "outputs": [
        {
          "output_type": "stream",
          "name": "stdout",
          "text": [
            "(192, 224, 224, 3)\n",
            "Test accuracy after 1 epochs: 28.57%\n",
            "Test accuracy after 2 epochs: 53.06%\n",
            "Test accuracy after 3 epochs: 61.22%\n",
            "Test accuracy after 4 epochs: 83.67%\n",
            "Test accuracy after 5 epochs: 81.63%\n",
            "Test accuracy after 6 epochs: 89.80%\n",
            "Test accuracy after 7 epochs: 91.84%\n",
            "Test accuracy after 8 epochs: 87.76%\n",
            "Test accuracy after 9 epochs: 83.67%\n",
            "Test accuracy after 10 epochs: 85.71%\n"
          ]
        }
      ]
    },
    {
      "cell_type": "code",
      "source": [
        "def display_random_image_prediction():\n",
        "  index_to_display = random.randint(0, len(test_dataset) - 1)\n",
        "  image, label = test_dataset[index_to_display]\n",
        "  image = image.unsqueeze(0).to(device)\n",
        "  logits = model(image.permute(0, 3, 1, 2))\n",
        "  predicted_label = torch.argmax(logits).item()\n",
        "  np_image = (image.squeeze().cpu().numpy() * 255).astype(np.uint8)\n",
        "  np_image = 255 - np_image\n",
        "  plt.imshow(np_image)\n",
        "  plt.title(f\"Actual: {pokemon_classes[label]} (Class {label}), Predicted: {pokemon_classes[predicted_label]} (Class {predicted_label})\")\n",
        "  plt.show()\n",
        "\n",
        "display_random_image_prediction()"
      ],
      "metadata": {
        "id": "QnQiRegs0EC-",
        "colab": {
          "base_uri": "https://localhost:8080/",
          "height": 327
        },
        "outputId": "b9309f47-4276-4884-ca9d-5fdd09d34f37"
      },
      "execution_count": null,
      "outputs": [
        {
          "output_type": "error",
          "ename": "NameError",
          "evalue": "name 'random' is not defined",
          "traceback": [
            "\u001b[0;31m---------------------------------------------------------------------------\u001b[0m",
            "\u001b[0;31mNameError\u001b[0m                                 Traceback (most recent call last)",
            "\u001b[0;32m<ipython-input-2-cf18aada593b>\u001b[0m in \u001b[0;36m<cell line: 13>\u001b[0;34m()\u001b[0m\n\u001b[1;32m     11\u001b[0m   \u001b[0mplt\u001b[0m\u001b[0;34m.\u001b[0m\u001b[0mshow\u001b[0m\u001b[0;34m(\u001b[0m\u001b[0;34m)\u001b[0m\u001b[0;34m\u001b[0m\u001b[0;34m\u001b[0m\u001b[0m\n\u001b[1;32m     12\u001b[0m \u001b[0;34m\u001b[0m\u001b[0m\n\u001b[0;32m---> 13\u001b[0;31m \u001b[0mdisplay_random_image_prediction\u001b[0m\u001b[0;34m(\u001b[0m\u001b[0;34m)\u001b[0m\u001b[0;34m\u001b[0m\u001b[0;34m\u001b[0m\u001b[0m\n\u001b[0m",
            "\u001b[0;32m<ipython-input-2-cf18aada593b>\u001b[0m in \u001b[0;36mdisplay_random_image_prediction\u001b[0;34m()\u001b[0m\n\u001b[1;32m      1\u001b[0m \u001b[0;32mdef\u001b[0m \u001b[0mdisplay_random_image_prediction\u001b[0m\u001b[0;34m(\u001b[0m\u001b[0;34m)\u001b[0m\u001b[0;34m:\u001b[0m\u001b[0;34m\u001b[0m\u001b[0;34m\u001b[0m\u001b[0m\n\u001b[0;32m----> 2\u001b[0;31m   \u001b[0mindex_to_display\u001b[0m \u001b[0;34m=\u001b[0m \u001b[0mrandom\u001b[0m\u001b[0;34m.\u001b[0m\u001b[0mrandint\u001b[0m\u001b[0;34m(\u001b[0m\u001b[0;36m0\u001b[0m\u001b[0;34m,\u001b[0m \u001b[0mlen\u001b[0m\u001b[0;34m(\u001b[0m\u001b[0mtest_dataset\u001b[0m\u001b[0;34m)\u001b[0m \u001b[0;34m-\u001b[0m \u001b[0;36m1\u001b[0m\u001b[0;34m)\u001b[0m\u001b[0;34m\u001b[0m\u001b[0;34m\u001b[0m\u001b[0m\n\u001b[0m\u001b[1;32m      3\u001b[0m   \u001b[0mimage\u001b[0m\u001b[0;34m,\u001b[0m \u001b[0mlabel\u001b[0m \u001b[0;34m=\u001b[0m \u001b[0mtest_dataset\u001b[0m\u001b[0;34m[\u001b[0m\u001b[0mindex_to_display\u001b[0m\u001b[0;34m]\u001b[0m\u001b[0;34m\u001b[0m\u001b[0;34m\u001b[0m\u001b[0m\n\u001b[1;32m      4\u001b[0m   \u001b[0mimage\u001b[0m \u001b[0;34m=\u001b[0m \u001b[0mimage\u001b[0m\u001b[0;34m.\u001b[0m\u001b[0munsqueeze\u001b[0m\u001b[0;34m(\u001b[0m\u001b[0;36m0\u001b[0m\u001b[0;34m)\u001b[0m\u001b[0;34m.\u001b[0m\u001b[0mto\u001b[0m\u001b[0;34m(\u001b[0m\u001b[0mdevice\u001b[0m\u001b[0;34m)\u001b[0m\u001b[0;34m\u001b[0m\u001b[0;34m\u001b[0m\u001b[0m\n\u001b[1;32m      5\u001b[0m   \u001b[0mlogits\u001b[0m \u001b[0;34m=\u001b[0m \u001b[0mmodel\u001b[0m\u001b[0;34m(\u001b[0m\u001b[0mimage\u001b[0m\u001b[0;34m.\u001b[0m\u001b[0mpermute\u001b[0m\u001b[0;34m(\u001b[0m\u001b[0;36m0\u001b[0m\u001b[0;34m,\u001b[0m \u001b[0;36m3\u001b[0m\u001b[0;34m,\u001b[0m \u001b[0;36m1\u001b[0m\u001b[0;34m,\u001b[0m \u001b[0;36m2\u001b[0m\u001b[0;34m)\u001b[0m\u001b[0;34m)\u001b[0m\u001b[0;34m\u001b[0m\u001b[0;34m\u001b[0m\u001b[0m\n",
            "\u001b[0;31mNameError\u001b[0m: name 'random' is not defined"
          ]
        }
      ]
    }
  ]
}
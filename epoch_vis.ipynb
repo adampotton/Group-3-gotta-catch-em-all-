{
  "nbformat": 4,
  "nbformat_minor": 0,
  "metadata": {
    "colab": {
      "provenance": [],
      "gpuType": "T4",
      "authorship_tag": "ABX9TyNMqq+npZyYfLKL3cNrMrSo",
      "include_colab_link": true
    },
    "kernelspec": {
      "name": "python3",
      "display_name": "Python 3"
    },
    "language_info": {
      "name": "python"
    },
    "accelerator": "GPU"
  },
  "cells": [
    {
      "cell_type": "markdown",
      "metadata": {
        "id": "view-in-github",
        "colab_type": "text"
      },
      "source": [
        "<a href=\"https://colab.research.google.com/github/adampotton/Group-3-gotta-catch-em-all-/blob/main/epoch_vis.ipynb\" target=\"_parent\"><img src=\"https://colab.research.google.com/assets/colab-badge.svg\" alt=\"Open In Colab\"/></a>"
      ]
    },
    {
      "cell_type": "markdown",
      "source": [
        "Showing the effect of chaning things on the accuracy"
      ],
      "metadata": {
        "id": "zEg8TXY5_450"
      }
    },
    {
      "cell_type": "code",
      "execution_count": 1,
      "metadata": {
        "colab": {
          "base_uri": "https://localhost:8080/"
        },
        "id": "9s6SuGyo-m1u",
        "outputId": "bb160df7-a9b4-4dca-eb95-56c5f0581d7f"
      },
      "outputs": [
        {
          "output_type": "stream",
          "name": "stdout",
          "text": [
            "Drive already mounted at /content/drive; to attempt to forcibly remount, call drive.mount(\"/content/drive\", force_remount=True).\n"
          ]
        }
      ],
      "source": [
        "import torch\n",
        "import torch.nn as nn\n",
        "import torchvision\n",
        "import torch.optim as optim\n",
        "from torch.utils.data import DataLoader, TensorDataset\n",
        "import torchvision.transforms as transforms\n",
        "from torchvision.transforms import ToPILImage\n",
        "import matplotlib.pyplot as plt\n",
        "import numpy as np\n",
        "from google.colab import files\n",
        "from PIL import Image\n",
        "import random\n",
        "import os\n",
        "import csv\n",
        "import shutil\n",
        "from google.colab import drive\n",
        "from sklearn.model_selection import train_test_split\n",
        "import os\n",
        "from torchvision.transforms import v2\n",
        "from torch.optim.lr_scheduler import ReduceLROnPlateau\n",
        "os.environ['CUDA_LAUNCH_BLOCKING'] = '1'\n",
        "drive.mount('/content/drive')\n",
        "torch.manual_seed(0)\n",
        "device = torch.device('cuda' if torch.cuda.is_available() else 'cpu')"
      ]
    },
    {
      "cell_type": "code",
      "source": [
        "# DATA LOADING\n",
        "\n",
        "root_directory = \"/content/drive/My Drive/PokemonData\"\n",
        "selected_subdirectory = \"/content/drive/My Drive/SelectedPokemonData\"\n",
        "\n",
        "# Get a list of all folders in the PokemonData directory\n",
        "all_folders = [f for f in os.listdir(root_directory) if os.path.isdir(os.path.join(root_directory, f))]\n",
        "\n",
        "# Select random folders\n",
        "n = 5\n",
        "selected_folders = random.sample(all_folders, n)\n",
        "print(selected_folders)\n",
        "\n",
        "# Remove and recreate selected subdirectory\n",
        "shutil.rmtree(selected_subdirectory, ignore_errors=True)\n",
        "os.makedirs(selected_subdirectory, exist_ok=True)\n",
        "\n",
        "# Copy selected folders to the subdirectory\n",
        "for folder_name in selected_folders:\n",
        "    src_folder_path = os.path.join(root_directory, folder_name)\n",
        "    dest_folder_path = os.path.join(selected_subdirectory, folder_name)\n",
        "    shutil.copytree(src_folder_path, dest_folder_path)\n",
        "\n",
        "# Define a common size for resizing images\n",
        "common_size = (224, 224)\n",
        "\n",
        "# Dictionary to store image arrays for selected folders\n",
        "image_arrays_dict = {}\n",
        "\n",
        "# Iterate over the selected folders in the subdirectory\n",
        "for folder_name in selected_folders:\n",
        "    folder_path = os.path.join(selected_subdirectory, folder_name)\n",
        "    image_arrays = []\n",
        "    for filename in os.listdir(folder_path):\n",
        "        if filename.lower().endswith((\".jpg\", \".png\")):\n",
        "            image_path = os.path.join(folder_path, filename)\n",
        "            img = Image.open(image_path).convert(\"RGB\").resize(common_size, Image.ANTIALIAS)\n",
        "            img_array = np.array(img)\n",
        "            image_arrays.append(img_array)\n",
        "    image_arrays_dict[folder_name] = np.array(image_arrays)\n",
        "\n",
        "# Combine all image arrays into a single array\n",
        "all_images = np.concatenate(list(image_arrays_dict.values()), axis=0)\n",
        "\n",
        "# Display selected classes and number of images per class\n",
        "pokemon_classes = list(image_arrays_dict.keys())\n",
        "num_images_per_class = [len(images) for images in image_arrays_dict.values()]\n",
        "print(pokemon_classes)\n",
        "print(num_images_per_class)"
      ],
      "metadata": {
        "colab": {
          "base_uri": "https://localhost:8080/"
        },
        "id": "WtF6RFL8-3HJ",
        "outputId": "55950bd2-aac1-4ea4-c044-59a2d17ddc30"
      },
      "execution_count": 2,
      "outputs": [
        {
          "output_type": "stream",
          "name": "stdout",
          "text": [
            "['Raichu', 'Ninetales', 'Clefable', 'Flareon', 'Seaking']\n"
          ]
        },
        {
          "output_type": "stream",
          "name": "stderr",
          "text": [
            "<ipython-input-2-482633f782f6>:37: DeprecationWarning: ANTIALIAS is deprecated and will be removed in Pillow 10 (2023-07-01). Use LANCZOS or Resampling.LANCZOS instead.\n",
            "  img = Image.open(image_path).convert(\"RGB\").resize(common_size, Image.ANTIALIAS)\n"
          ]
        },
        {
          "output_type": "stream",
          "name": "stdout",
          "text": [
            "['Raichu', 'Ninetales', 'Clefable', 'Flareon', 'Seaking']\n",
            "[143, 119, 127, 142, 130]\n"
          ]
        }
      ]
    },
    {
      "cell_type": "code",
      "source": [
        "# AUGMENTATION\n",
        "\n",
        "transform = v2.Compose([\n",
        "    v2.ToImage(),\n",
        "    v2.RandomHorizontalFlip(p=1),\n",
        "    v2.ToDtype(torch.float32, scale=True),\n",
        "])\n",
        "\n",
        "aug_images = []\n",
        "for img in all_images:\n",
        "  aug_image = transform(img)\n",
        "  aug_images.append(aug_image)\n",
        "\n",
        "aug_images = torch.stack(aug_images)\n",
        "combined_images = np.concatenate([all_images, aug_images.permute(0, 2, 3, 1)], axis=0)\n",
        "\n",
        "all_labels = np.concatenate([np.full(num, i) for i, num in enumerate(num_images_per_class)])\n",
        "combined_labels = np.concatenate([all_labels, all_labels])\n"
      ],
      "metadata": {
        "id": "3f4B6j8Z_T3-"
      },
      "execution_count": 3,
      "outputs": []
    },
    {
      "cell_type": "code",
      "source": [
        "# OUR CUSTOM MODEL\n",
        "\n",
        "# combined_images = all_images\n",
        "# combined_labels = all_labels\n",
        "\n",
        "# Split dataset into training and testing sets\n",
        "train_images, test_images, train_labels, test_labels = train_test_split(\n",
        "    combined_images, combined_labels, test_size=0.2, random_state=2, stratify=combined_labels\n",
        ")\n",
        "\n",
        "# Convert NumPy arrays to PyTorch tensors\n",
        "train_images_tensor = torch.tensor(train_images, dtype=torch.float32)\n",
        "train_labels_tensor = torch.tensor(train_labels, dtype=torch.long)\n",
        "test_images_tensor = torch.tensor(test_images, dtype=torch.float32)\n",
        "test_labels_tensor = torch.tensor(test_labels, dtype=torch.long)\n",
        "\n",
        "# Create PyTorch datasets and dataloaders\n",
        "train_dataset = TensorDataset(train_images_tensor, train_labels_tensor)\n",
        "test_dataset = TensorDataset(test_images_tensor, test_labels_tensor)\n",
        "\n",
        "batch_size = 64\n",
        "train_loader = DataLoader(train_dataset, batch_size=batch_size, shuffle=True)\n",
        "test_loader = DataLoader(test_dataset, batch_size=batch_size, shuffle=True)\n",
        "\n",
        "# Define the number of classes and input channels\n",
        "num_classes = n\n",
        "num_input_channels = 3\n",
        "\n",
        "# Define the model architecture\n",
        "model = nn.Sequential(\n",
        "    nn.Conv2d(num_input_channels, 16, kernel_size=3, padding=1),\n",
        "    nn.BatchNorm2d(16),\n",
        "    nn.ReLU(),\n",
        "    nn.Dropout(0.),\n",
        "    nn.MaxPool2d(2),\n",
        "    nn.Conv2d(16, 32, kernel_size=3, padding=1),\n",
        "    nn.BatchNorm2d(32),\n",
        "    nn.ReLU(),\n",
        "    nn.Dropout(0.2),\n",
        "    nn.MaxPool2d(2),\n",
        "    nn.Conv2d(32, 32, kernel_size=3, padding=1),\n",
        "    nn.BatchNorm2d(32),\n",
        "    nn.ReLU(),\n",
        "    nn.Flatten(),\n",
        "    nn.Linear(32 * 56 * 56, 128),\n",
        "    nn.ReLU(),\n",
        "    nn.Linear(128, num_classes)\n",
        ")\n",
        "\n",
        "# Move model to the appropriate device (e.g., GPU if available)\n",
        "device = torch.device(\"cuda\" if torch.cuda.is_available() else \"cpu\")\n",
        "model = model.to(device)"
      ],
      "metadata": {
        "id": "_PJIAkgp_bf5"
      },
      "execution_count": 4,
      "outputs": []
    },
    {
      "cell_type": "code",
      "source": [
        "# TRAINING AND TESTING THE MODEL\n",
        "\n",
        "# Define optimizer and loss function\n",
        "optimizer = optim.Adam(model.parameters(), lr=0.001)\n",
        "criterion = nn.CrossEntropyLoss()\n",
        "scheduler = ReduceLROnPlateau(optimizer, mode='min', factor=0.5, patience=3, verbose=True)\n",
        "\n",
        "# Train the model\n",
        "def train():\n",
        "    model.train()\n",
        "    for images, labels in train_loader:\n",
        "        # Move tensors to the configured device\n",
        "        images = images.to(device)\n",
        "        labels = labels.to(device)\n",
        "\n",
        "        # Forward pass\n",
        "        logits = model(images.permute(0, 3, 1, 2))\n",
        "\n",
        "        # Compute the loss\n",
        "        loss = criterion(logits, labels)\n",
        "\n",
        "        # Backpropagation and optimization\n",
        "        optimizer.zero_grad()\n",
        "        loss.backward()\n",
        "        optimizer.step()\n",
        "\n",
        "# Define testing function\n",
        "def test(epoch):\n",
        "    model.eval()\n",
        "    with torch.no_grad():\n",
        "        correct = 0\n",
        "        total = 0\n",
        "        for images, labels in test_loader:\n",
        "            # Move tensors to the configured device\n",
        "            images = images.to(device)\n",
        "            labels = labels.to(device)\n",
        "\n",
        "            # Forward pass\n",
        "            logits = model(images.permute(0, 3, 1, 2))\n",
        "\n",
        "            # Compute total correct so far\n",
        "            predicted = torch.argmax(logits, dim=1)\n",
        "            correct += (predicted == labels).sum().item()\n",
        "            total += labels.size(0)\n",
        "            accuracy = 100 * correct / total\n",
        "        print(f'Test accuracy after {epoch+1} epochs: {100 * correct / total:.2f}%')\n",
        "        scheduler.step(accuracy)\n"
      ],
      "metadata": {
        "id": "qMGEww0z_iHQ"
      },
      "execution_count": 5,
      "outputs": []
    },
    {
      "cell_type": "code",
      "source": [
        "# Training and visualising epoch accuracy\n",
        "\n",
        "test_accuracies = []\n",
        "\n",
        "num_epochs = 20\n",
        "for epoch in range(num_epochs):\n",
        "    train()\n",
        "\n",
        "    # Store testing accuracy\n",
        "    test_correct = 0\n",
        "    test_total = 0\n",
        "    with torch.no_grad():\n",
        "        for images, labels in test_loader:\n",
        "            images = images.to(device)\n",
        "            labels = labels.to(device)\n",
        "            logits = model(images.permute(0, 3, 1, 2))\n",
        "            predicted = torch.argmax(logits, dim=1)\n",
        "            test_correct += (predicted == labels).sum().item()\n",
        "            test_total += labels.size(0)\n",
        "    test_accuracy = 100 * test_correct / test_total\n",
        "    test_accuracies.append(test_accuracy)\n",
        "\n",
        "# Plotting the accuracies\n",
        "plt.plot(range(1, num_epochs + 1), test_accuracies, label='Training Accuracy')\n",
        "plt.xlabel('Epoch')\n",
        "plt.ylabel('Accuracy (%)')\n",
        "plt.title('Training Accuracy')\n",
        "plt.legend()\n",
        "plt.grid(True)\n",
        "plt.show()"
      ],
      "metadata": {
        "colab": {
          "base_uri": "https://localhost:8080/",
          "height": 472
        },
        "id": "8NmmArZGB1qv",
        "outputId": "0be4a659-8965-4c52-de10-4344a448fbdf"
      },
      "execution_count": 6,
      "outputs": [
        {
          "output_type": "display_data",
          "data": {
            "text/plain": [
              "<Figure size 640x480 with 1 Axes>"
            ],
            "image/png": "[encoded data removed]"
          },
          "metadata": {}
        }
      ]
    }
  ]
}
{
  "nbformat": 4,
  "nbformat_minor": 0,
  "metadata": {
    "colab": {
      "provenance": [],
      "authorship_tag": "ABX9TyMXf3klvd6gNajnb9uQYaqb",
      "include_colab_link": true
    },
    "kernelspec": {
      "name": "python3",
      "display_name": "Python 3"
    },
    "language_info": {
      "name": "python"
    }
  },
  "cells": [
    {
      "cell_type": "markdown",
      "metadata": {
        "id": "view-in-github",
        "colab_type": "text"
      },
      "source": [
        "<a href=\"https://colab.research.google.com/github/adampotton/Group-3-gotta-catch-em-all-/blob/main/model_1.ipynb\" target=\"_parent\"><img src=\"https://colab.research.google.com/assets/colab-badge.svg\" alt=\"Open In Colab\"/></a>"
      ]
    },
    {
      "cell_type": "code",
      "source": [
        "import numpy as np\n",
        "from sklearn.preprocessing import OneHotEncoder, StandardScaler\n",
        "import torch\n",
        "import torch.nn as nn\n",
        "from google.colab import files, drive\n",
        "import pandas as pd\n",
        "drive.mount('/content/drive')"
      ],
      "metadata": {
        "colab": {
          "base_uri": "https://localhost:8080/"
        },
        "id": "wGDO3rSDSvXP",
        "outputId": "a1e39f8c-1586-4c23-a24a-38a3943edb19"
      },
      "execution_count": 1,
      "outputs": [
        {
          "output_type": "stream",
          "name": "stdout",
          "text": [
            "Mounted at /content/drive\n"
          ]
        }
      ]
    },
    {
      "cell_type": "markdown",
      "source": [
        "### Make dictionary for details about conflicts"
      ],
      "metadata": {
        "id": "_ndVjQYXbaz1"
      }
    },
    {
      "cell_type": "code",
      "source": [
        "df_conflicts = pd.read_csv('/content/drive/My Drive/Data_sci/icb1v15.csv')\n",
        "df_actors = pd.read_csv('/content/drive/My Drive/Data_sci/icb2v15.csv')\n",
        "country_codes = pd.read_csv('/content/drive/My Drive/Data_sci/country codes 2.csv')\n",
        "\n",
        "crisis_details = {}\n",
        "\n",
        "for index, row in df_conflicts.iterrows():\n",
        "    crisis_number = row['crisno']  # Crisis number\n",
        "    crisis_name = row['crisname']  # Crisis name\n",
        "    start_year = row['yrtrig']  # Start year\n",
        "    end_year = row['yrterm']  # End year\n",
        "\n",
        "    crisis_details[crisis_number] = {'crisis_name': crisis_name,\n",
        "                                      'start_year': start_year,\n",
        "                                      'end_year': end_year,\n",
        "                                      'actors': set()}\n",
        "\n",
        "for index, row in df_actors.iterrows():\n",
        "    crisis_number = row['crisno']  # Crisis number\n",
        "    r = row['actor']\n",
        "    idx = np.where(country_codes == row['actor'])[0] # Actor\n",
        "    actor = country_codes.iloc[idx[0],0]\n",
        "\n",
        "    if crisis_number in crisis_details:\n",
        "        crisis_details[crisis_number]['actors'].add(actor)\n",
        "\n",
        "print(crisis_details[87])"
      ],
      "metadata": {
        "colab": {
          "base_uri": "https://localhost:8080/"
        },
        "id": "H_aRFImRUzrk",
        "outputId": "db3ac49a-03bc-4b5a-a667-2ba22d8b7d80"
      },
      "execution_count": 52,
      "outputs": [
        {
          "output_type": "stream",
          "name": "stdout",
          "text": [
            "{'crisis_name': 'OCCUPATION OF IRAN', 'start_year': 1941, 'end_year': 1942.0, 'actors': {'Iran'}}\n"
          ]
        }
      ]
    },
    {
      "cell_type": "markdown",
      "source": [
        "### Make matrix for years (i) and actors (j), for if a conflict has been started"
      ],
      "metadata": {
        "id": "trkjG0Tube8K"
      }
    },
    {
      "cell_type": "code",
      "source": [
        "actors = set()\n",
        "for _, details in crisis_details.items():\n",
        "    actors.update(details['actors'])\n",
        "\n",
        "matrix_data = []\n",
        "for _, details in crisis_details.items():\n",
        "    crisis_year = details['start_year']\n",
        "    crisis_actors = details['actors']\n",
        "    row_data = {'Year': crisis_year}\n",
        "    for actor in actors:\n",
        "        row_data[actor] = 1 if actor in crisis_actors else 0\n",
        "    matrix_data.append(row_data)\n",
        "\n",
        "actor_crisis_matrix = pd.DataFrame(matrix_data)\n",
        "\n",
        "columns = actor_crisis_matrix.columns.tolist()\n",
        "columns.remove('Year')\n",
        "columns = ['Year'] + columns\n",
        "\n",
        "actor_crisis_matrix = actor_crisis_matrix[columns] # Row per conflict\n",
        "combined_actor_crisis_matrix = actor_crisis_matrix.groupby('Year').sum().reset_index() # Row per year\n",
        "actor_crisis_matrix = actor_crisis_matrix[actor_crisis_matrix['Year'] >= 1950]\n",
        "\n",
        "print(actor_crisis_matrix.head())"
      ],
      "metadata": {
        "id": "EjGxNeYIbYOu",
        "colab": {
          "base_uri": "https://localhost:8080/"
        },
        "outputId": "d034a74c-c56a-44cc-910e-99694040958f"
      },
      "execution_count": 90,
      "outputs": [
        {
          "output_type": "stream",
          "name": "stdout",
          "text": [
            "     Year  Guatemala  Algeria  Luxembourg  Argentina  Egypt  Malawi  \\\n",
            "131  1950          0        0           0          0      0       0   \n",
            "132  1950          0        0           0          0      0       0   \n",
            "133  1951          0        0           0          0      0       0   \n",
            "134  1951          0        0           0          0      0       0   \n",
            "135  1951          0        0           0          0      1       0   \n",
            "\n",
            "     South Yemen  Qatar  Germany (West Germany)  ...  Panama  Azerbaijan  \\\n",
            "131            0      0                       0  ...       0           0   \n",
            "132            0      0                       0  ...       0           0   \n",
            "133            0      0                       0  ...       0           0   \n",
            "134            0      0                       0  ...       0           0   \n",
            "135            0      0                       0  ...       0           0   \n",
            "\n",
            "     Rwanda  Australia  El Salvador  Croatia  Malta  Kosovo  Zambia  Zimbabwe  \n",
            "131       0          0            0        0      0       0       0         0  \n",
            "132       0          0            0        0      0       0       0         0  \n",
            "133       0          0            0        0      0       0       0         0  \n",
            "134       0          0            0        0      0       0       0         0  \n",
            "135       0          0            0        0      0       0       0         0  \n",
            "\n",
            "[5 rows x 146 columns]\n"
          ]
        }
      ]
    },
    {
      "cell_type": "markdown",
      "source": [
        "### Prepare input data for RNN"
      ],
      "metadata": {
        "id": "YSnsBiA4b3Gl"
      }
    },
    {
      "cell_type": "code",
      "source": [
        "df = pd.read_csv('/content/drive/My Drive/Data_sci/all_alphabetical_by_recipient.csv')\n",
        "\n",
        "categorical_cols = ['Recipient', 'Supplier', 'Weapon designation']\n",
        "encoder = OneHotEncoder(handle_unknown='ignore')\n",
        "encoded_data = encoder.fit_transform(df[categorical_cols])\n",
        "\n",
        "numeric_cols = ['Year of order', 'Number ordered', 'SIPRI TIV per unit', 'SIPRI TIV for total order', 'SIPRI TIV of delivered weapons']\n",
        "scaler = StandardScaler()\n",
        "scaled_data = scaler.fit_transform(df[numeric_cols])\n",
        "\n",
        "\n",
        "def extract_arms_trade_data(recipient, target_year):\n",
        "    data = df[(df['Recipient'] == recipient) & (df['Year of order'] >= target_year - 3) & (df['Year of order'] < target_year)]\n",
        "    if data.empty:\n",
        "      return None, None\n",
        "\n",
        "    encoded_data = encoder.transform(data[categorical_cols])\n",
        "    scaled_data = scaler.transform(data[numeric_cols])\n",
        "\n",
        "    input_data = np.concatenate((encoded_data.toarray(), scaled_data), axis=1)\n",
        "\n",
        "    year_rows = actor_crisis_matrix[actor_crisis_matrix['Year'] == target_year]\n",
        "    if year_rows[recipient].sum() == 0:\n",
        "        target = 0\n",
        "    else:\n",
        "        target = 1\n",
        "\n",
        "    return input_data, target\n",
        "\n",
        "\n",
        "extract_arms_trade_data('Afghanistan', 2007)\n"
      ],
      "metadata": {
        "colab": {
          "base_uri": "https://localhost:8080/"
        },
        "id": "KZl8nPs-8Ynd",
        "outputId": "895308e4-44e1-468f-a99c-064f52c886b2"
      },
      "execution_count": 157,
      "outputs": [
        {
          "output_type": "execute_result",
          "data": {
            "text/plain": [
              "(array([[ 0.        ,  1.        ,  0.        , ..., -0.25502206,\n",
              "         -0.27955698, -0.27606523],\n",
              "        [ 0.        ,  1.        ,  0.        , ..., -0.16847345,\n",
              "         -0.24720897, -0.24119009],\n",
              "        [ 0.        ,  1.        ,  0.        , ..., -0.26800436,\n",
              "         -0.27820288, -0.27460534],\n",
              "        [ 0.        ,  1.        ,  0.        , ..., -0.27124993,\n",
              "         -0.13436705, -0.11953263],\n",
              "        [ 0.        ,  1.        ,  0.        , ..., -0.26944683,\n",
              "         -0.2201269 , -0.2119923 ]]),\n",
              " 0)"
            ]
          },
          "metadata": {},
          "execution_count": 157
        }
      ]
    },
    {
      "cell_type": "markdown",
      "source": [
        "### Generate random samples of data for RNN"
      ],
      "metadata": {
        "id": "iAMOIBo1GN1R"
      }
    },
    {
      "cell_type": "code",
      "source": [
        "import random\n",
        "def generate_random_samples(df, n):\n",
        "    random_samples = []\n",
        "\n",
        "    random_indices = random.sample(range(len(df)), n)\n",
        "\n",
        "    for index in random_indices:\n",
        "        row = df.iloc[index]\n",
        "        recipient = row['Recipient']\n",
        "        target_year = row['Year of order']\n",
        "\n",
        "        input_data, target = extract_arms_trade_data(recipient, target_year)\n",
        "\n",
        "        if input_data is not None and target is not None:\n",
        "\n",
        "            X_rnn = torch.tensor(input_data, dtype=torch.float32)\n",
        "            y_rnn = torch.tensor(target, dtype=torch.float32)\n",
        "\n",
        "            random_samples.append((X_rnn, y_rnn))\n",
        "\n",
        "        random_samples.append((X_rnn, y_rnn))\n",
        "\n",
        "    return random_samples\n",
        "\n",
        "n = 5\n",
        "random_samples = generate_random_samples(df, n)\n"
      ],
      "metadata": {
        "id": "oQUxv507F3dq"
      },
      "execution_count": 156,
      "outputs": []
    },
    {
      "cell_type": "code",
      "source": [
        "### Need to sort out country naming issues"
      ],
      "metadata": {
        "id": "ZL_VHEdtJtyU"
      },
      "execution_count": 147,
      "outputs": []
    },
    {
      "cell_type": "markdown",
      "source": [
        "### Define the RNN"
      ],
      "metadata": {
        "id": "JxBcZCtgcBXC"
      }
    },
    {
      "cell_type": "code",
      "execution_count": null,
      "metadata": {
        "id": "gkJnQpvBQvbu"
      },
      "outputs": [],
      "source": [
        "class RNNModel(nn.Module):\n",
        "    def __init__(self, input_size, hidden_size, output_size, num_layers=1):\n",
        "        super(RNNModel, self).__init__()\n",
        "        self.hidden_size = hidden_size\n",
        "        self.num_layers = num_layers\n",
        "        self.rnn = nn.RNN(input_size, hidden_size, num_layers, batch_first=True)\n",
        "        self.fc = nn.Linear(hidden_size, output_size)\n",
        "        self.sigmoid = nn.Sigmoid()\n",
        "\n",
        "    def forward(self, x):\n",
        "        h0 = torch.zeros(self.num_layers, x.size(0), self.hidden_size).to(x.device)\n",
        "        out, _ = self.rnn(x, h0)\n",
        "        out = self.fc(out[:, -1, :])\n",
        "        out = self.sigmoid(out)\n",
        "        return out\n",
        "\n",
        "input_size = X.shape[2]\n",
        "output_size = 1\n",
        "hidden_size = 64\n",
        "num_layers = 1\n",
        "\n",
        "model = RNNModel(input_size, hidden_size, output_size, num_layers)\n",
        "\n",
        "criterion = nn.BCELoss()\n",
        "optimizer = torch.optim.Adam(model.parameters(), lr=0.001)\n"
      ]
    },
    {
      "cell_type": "markdown",
      "source": [
        "### Training"
      ],
      "metadata": {
        "id": "F9-S4hygcErj"
      }
    },
    {
      "cell_type": "code",
      "source": [
        "num_epochs = 10\n",
        "for epoch in range(num_epochs):\n",
        "\n",
        "    outputs = model(X)\n",
        "    loss = criterion(outputs.squeeze(), y)\n",
        "\n",
        "    optimizer.zero_grad()\n",
        "    loss.backward()\n",
        "    optimizer.step()\n",
        "\n",
        "    print(f'Epoch [{epoch+1}/{num_epochs}], Loss: {loss.item():.4f}')"
      ],
      "metadata": {
        "id": "i5d_pcVJTxLy"
      },
      "execution_count": null,
      "outputs": []
    }
  ]
}
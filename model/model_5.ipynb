{
  "cells": [
    {
      "cell_type": "markdown",
      "metadata": {
        "id": "view-in-github",
        "colab_type": "text"
      },
      "source": [
        "<a href=\"https://colab.research.google.com/github/adampotton/Group-3-gotta-catch-em-all-/blob/main/model/model_5.ipynb\" target=\"_parent\"><img src=\"https://colab.research.google.com/assets/colab-badge.svg\" alt=\"Open In Colab\"/></a>"
      ]
    },
    {
      "cell_type": "markdown",
      "source": [
        "### Packages"
      ],
      "metadata": {
        "id": "AETi8dnHdcaz"
      }
    },
    {
      "cell_type": "code",
      "execution_count": 1,
      "metadata": {
        "colab": {
          "base_uri": "https://localhost:8080/"
        },
        "id": "wGDO3rSDSvXP",
        "outputId": "b936f2a9-b1cf-4352-d226-9d680a7e2176"
      },
      "outputs": [
        {
          "output_type": "stream",
          "name": "stdout",
          "text": [
            "Mounted at /content/drive\n"
          ]
        }
      ],
      "source": [
        "import numpy as np\n",
        "from sklearn.preprocessing import OneHotEncoder, StandardScaler\n",
        "import torch\n",
        "import torch.nn as nn\n",
        "from google.colab import files, drive\n",
        "import pandas as pd\n",
        "import random\n",
        "import matplotlib.pyplot as plt\n",
        "from collections import Counter\n",
        "from sklearn.metrics import confusion_matrix, ConfusionMatrixDisplay\n",
        "from torch.optim.lr_scheduler import ReduceLROnPlateau\n",
        "drive.mount('/content/drive')"
      ]
    },
    {
      "cell_type": "markdown",
      "metadata": {
        "id": "YSnsBiA4b3Gl"
      },
      "source": [
        "### Prepare input data for RNN\n"
      ]
    },
    {
      "cell_type": "code",
      "execution_count": 5,
      "metadata": {
        "id": "KZl8nPs-8Ynd"
      },
      "outputs": [],
      "source": [
        "df = pd.read_csv('/content/drive/My Drive/Data_sci/df.csv')\n",
        "matrix = pd.read_csv('/content/drive/My Drive/Data_sci/matrix_names.csv')\n",
        "\n",
        "categorical_cols = ['Recipient', 'Supplier', 'Weapon designation']\n",
        "encoder = OneHotEncoder(handle_unknown='ignore')\n",
        "encoded_data = encoder.fit_transform(df[categorical_cols])\n",
        "\n",
        "numeric_cols = ['Year of order', 'Number ordered', 'SIPRI TIV per unit', 'SIPRI TIV for total order', 'SIPRI TIV of delivered weapons']\n",
        "scaler = StandardScaler()\n",
        "scaled_data = scaler.fit_transform(df[numeric_cols])\n",
        "\n",
        "def extract_arms_trade_data(recipient, target_year, ys):\n",
        "    data = df[(df['Recipient'] == recipient) & (df['Year of order'] >= target_year - ys[1]) & (df['Year of order'] < target_year - ys[0])]\n",
        "    if data.empty:\n",
        "      return None, None\n",
        "\n",
        "    encoded_data = encoder.transform(data[categorical_cols])\n",
        "    scaled_data = scaler.transform(data[numeric_cols])\n",
        "\n",
        "    input_data = np.concatenate((encoded_data.toarray(), scaled_data), axis=1)\n",
        "\n",
        "    year_rows = matrix[matrix['Year'] == target_year]\n",
        "    if year_rows[recipient].sum() == 0:\n",
        "        target = 0\n",
        "    else:\n",
        "        target = 1\n",
        "\n",
        "    return input_data, target\n",
        "\n",
        "def generate_random_samples(actor_matrix, n, ratio, ys):\n",
        "    random_samples = []\n",
        "\n",
        "    one_indices = actor_matrix[actor_matrix == 1].stack().index.tolist()\n",
        "    zero_indices = actor_matrix[actor_matrix == 0].stack().index.tolist()\n",
        "\n",
        "    sampled_one_indices = random.sample(one_indices, int(n * ratio))\n",
        "    sampled_zero_indices = random.sample(zero_indices, n - int(n * ratio))\n",
        "    sampled_indices = sampled_one_indices + sampled_zero_indices\n",
        "    random.shuffle(sampled_indices)\n",
        "\n",
        "    for idx, country in sampled_indices:\n",
        "        year = actor_matrix.loc[idx, 'Year']\n",
        "        input_data, target = extract_arms_trade_data(country, year, ys)\n",
        "\n",
        "        if input_data is not None and target is not None:\n",
        "            input_data = torch.tensor(input_data, dtype=torch.float32)\n",
        "            target = torch.tensor(target, dtype=torch.float32)\n",
        "\n",
        "            if not torch.isnan(input_data).any() and not torch.isnan(target):\n",
        "                X_rnn = input_data\n",
        "                y_rnn = target\n",
        "\n",
        "                random_samples.append((X_rnn, y_rnn, country, year))\n",
        "\n",
        "    return random_samples\n"
      ]
    },
    {
      "cell_type": "markdown",
      "metadata": {
        "id": "JxBcZCtgcBXC"
      },
      "source": [
        "### Define the RNN model"
      ]
    },
    {
      "cell_type": "code",
      "execution_count": 25,
      "metadata": {
        "id": "gkJnQpvBQvbu"
      },
      "outputs": [],
      "source": [
        "input_size = 4404\n",
        "output_size = 1\n",
        "hidden_size = 256\n",
        "num_layers = 3\n",
        "dropout = 0.4\n",
        "\n",
        "class RNNModel(nn.Module):\n",
        "    def __init__(self, input_size, hidden_size, output_size, num_layers=1, dropout=dropout):\n",
        "        super(RNNModel, self).__init__()\n",
        "        self.hidden_size = hidden_size\n",
        "        self.num_layers = num_layers\n",
        "        self.rnn = nn.LSTM(input_size, hidden_size, num_layers, batch_first=True, dropout=dropout, bidirectional=True)\n",
        "        self.fc = nn.Linear(hidden_size * 2, output_size)\n",
        "        self.sigmoid = nn.Sigmoid()\n",
        "\n",
        "    def forward(self, x):\n",
        "        h0 = torch.zeros(self.num_layers * 2, x.size(0), self.hidden_size).to(x.device)\n",
        "        c0 = torch.zeros(self.num_layers * 2, x.size(0), self.hidden_size).to(x.device)\n",
        "        out, _ = self.rnn(x, (h0, c0))\n",
        "        out = self.fc(out[:, -1, :])\n",
        "        out = self.sigmoid(out)\n",
        "        return out\n",
        "\n",
        "model = RNNModel(input_size, hidden_size, output_size, num_layers, dropout)\n",
        "\n",
        "device = torch.device('cuda' if torch.cuda.is_available() else 'cpu')\n",
        "model.to(device)\n",
        "\n",
        "criterion = nn.BCELoss()\n",
        "optimizer = torch.optim.AdamW(model.parameters(), lr=0.001)\n",
        "scheduler = ReduceLROnPlateau(optimizer, mode='max', factor=0.5, patience=3)\n"
      ]
    },
    {
      "cell_type": "markdown",
      "metadata": {
        "id": "iAMOIBo1GN1R"
      },
      "source": [
        "### Generate data samples\n",
        "\n"
      ]
    },
    {
      "cell_type": "code",
      "execution_count": 21,
      "metadata": {
        "id": "aomfBMS1PA7C"
      },
      "outputs": [],
      "source": []
    },
    {
      "cell_type": "markdown",
      "metadata": {
        "id": "F9-S4hygcErj"
      },
      "source": [
        "### Training, validation, and testing\n"
      ]
    },
    {
      "cell_type": "code",
      "execution_count": null,
      "metadata": {
        "id": "i5d_pcVJTxLy"
      },
      "outputs": [],
      "source": [
        "n = 1500\n",
        "ratio = 0.5\n",
        "ys = [[0,2],[0,3],[0,4],[1,3],[1,4],[1,5],[2,4],[2,5],[2,6]]\n",
        "random_samples = generate_random_samples(matrix, n, ratio,ys[i])\n",
        "\n",
        "for i in range(len(random_samples)):\n",
        "    X_rnn, y_rnn, country, year = random_samples[i]\n",
        "    random_samples[i] = (X_rnn.to(device), y_rnn.to(device), country, year)\n",
        "\n",
        "\n",
        "\n",
        "num_epochs = 20\n",
        "train_size = int(0.8 * len(random_samples))\n",
        "val_size = int(0.1 * len(random_samples))\n",
        "test_size = len(random_samples) - train_size - val_size\n",
        "\n",
        "train_set, val_set, test_set = random_samples[:train_size], random_samples[train_size:train_size + val_size], random_samples[-test_size:]\n",
        "\n",
        "## Training\n",
        "for epoch in range(num_epochs):\n",
        "    model.train()\n",
        "    running_loss = 0.0\n",
        "    correct_predictions = 0\n",
        "    total_samples = 0\n",
        "\n",
        "    for X_rnn, y_rnn, _, _ in train_set:\n",
        "        optimizer.zero_grad()\n",
        "        X_rnn = X_rnn.unsqueeze(0)\n",
        "        outputs = model(X_rnn)\n",
        "        predictions = (outputs.squeeze() > 0.5).float()\n",
        "        loss = criterion(outputs.squeeze(), y_rnn)\n",
        "        loss.backward()\n",
        "        optimizer.step()\n",
        "\n",
        "        running_loss += loss.item()\n",
        "        correct_predictions += (predictions == y_rnn).sum().item()\n",
        "        total_samples += 1\n",
        "\n",
        "## Validation\n",
        "    model.eval()\n",
        "    val_loss = 0.0\n",
        "    val_correct_predictions = 0\n",
        "    val_total_samples = 0\n",
        "\n",
        "    with torch.no_grad():\n",
        "        for X_val, y_val, _, _ in val_set:\n",
        "            X_val = X_val.unsqueeze(0)\n",
        "            outputs_val = model(X_val)\n",
        "            predictions_val = (outputs_val.squeeze() > 0.5).float()\n",
        "            val_loss += criterion(outputs_val.squeeze(), y_val).item()\n",
        "            val_correct_predictions += (predictions_val == y_val).sum().item()\n",
        "            val_total_samples += 1\n",
        "\n",
        "    epoch_loss = running_loss / len(train_set)\n",
        "    val_accuracy = val_correct_predictions / val_total_samples\n",
        "    scheduler.step(val_accuracy)\n",
        "\n",
        "    print(f'Epoch [{epoch+1}/{num_epochs}], Training Loss: {epoch_loss:.5f}, Validation Accuracy: {val_accuracy:.5f}')\n",
        "\n",
        "## Testing\n",
        "model.eval()\n",
        "test_correct_predictions = 0\n",
        "test_total_samples = 0\n",
        "true_labels = []\n",
        "predicted_labels = []\n",
        "\n",
        "with torch.no_grad():\n",
        "    for X_test, y_test, _, _ in test_set:\n",
        "        X_test = X_test.unsqueeze(0)\n",
        "        outputs_test = model(X_test)\n",
        "        predictions_test = (outputs_test.squeeze() > 0.5).float()\n",
        "        test_correct_predictions += (predictions_test == y_test).sum().item()\n",
        "        test_total_samples += 1\n",
        "        true_labels.append(y_test.item())\n",
        "        predicted_labels.append(predictions_test.item())\n",
        "\n",
        "\n",
        "test_accuracy = test_correct_predictions / test_total_samples\n",
        "print(f'Testing Accuracy: {test_accuracy:.5f}')"
      ]
    },
    {
      "cell_type": "markdown",
      "source": [
        "### Running 9 iterations of the model"
      ],
      "metadata": {
        "id": "VYiUwd3XvUuC"
      }
    },
    {
      "cell_type": "code",
      "source": [
        "num_epochs = 20\n",
        "results = []\n",
        "n = 1500\n",
        "ratio = 0.5\n",
        "ys = [[0,2],[0,3],[0,4],[1,3],[1,4],[1,5],[2,4],[2,5],[2,6]]\n",
        "\n",
        "for ys_pair in ys:\n",
        "    random_samples = generate_random_samples(matrix, n, ratio, ys_pair)\n",
        "\n",
        "    for i in range(len(random_samples)):\n",
        "        X_rnn, y_rnn, country, year = random_samples[i]\n",
        "        random_samples[i] = (X_rnn.to(device), y_rnn.to(device), country, year)\n",
        "\n",
        "    train_size = int(0.8 * len(random_samples))\n",
        "    val_size = int(0.1 * len(random_samples))\n",
        "    test_size = len(random_samples) - train_size - val_size\n",
        "\n",
        "    train_set, val_set, test_set = random_samples[:train_size], random_samples[train_size:train_size + val_size], random_samples[-test_size:]\n",
        "\n",
        "    val_accuracies = []\n",
        "    test_accuracies = []\n",
        "    true_labels_list = []\n",
        "    predicted_labels_list = []\n",
        "\n",
        "    for epoch in range(num_epochs):\n",
        "        model.train()\n",
        "        running_loss = 0.0\n",
        "        correct_predictions = 0\n",
        "        total_samples = 0\n",
        "\n",
        "        for X_rnn, y_rnn, _, _ in train_set:\n",
        "            optimizer.zero_grad()\n",
        "            X_rnn = X_rnn.unsqueeze(0)\n",
        "            outputs = model(X_rnn)\n",
        "            predictions = (outputs.squeeze() > 0.5).float()\n",
        "            loss = criterion(outputs.squeeze(), y_rnn)\n",
        "            loss.backward()\n",
        "            optimizer.step()\n",
        "\n",
        "            running_loss += loss.item()\n",
        "            correct_predictions += (predictions == y_rnn).sum().item()\n",
        "            total_samples += 1\n",
        "\n",
        "        model.eval()\n",
        "        val_loss = 0.0\n",
        "        val_correct_predictions = 0\n",
        "        val_total_samples = 0\n",
        "\n",
        "        with torch.no_grad():\n",
        "            for X_val, y_val, _, _ in val_set:\n",
        "                X_val = X_val.unsqueeze(0)\n",
        "                outputs_val = model(X_val)\n",
        "                predictions_val = (outputs_val.squeeze() > 0.5).float()\n",
        "                val_loss += criterion(outputs_val.squeeze(), y_val).item()\n",
        "                val_correct_predictions += (predictions_val == y_val).sum().item()\n",
        "                val_total_samples += 1\n",
        "\n",
        "        epoch_loss = running_loss / len(train_set)\n",
        "        val_accuracy = val_correct_predictions / val_total_samples\n",
        "        scheduler.step(val_accuracy)\n",
        "\n",
        "        val_accuracies.append(val_accuracy)\n",
        "\n",
        "    ## Testing\n",
        "    model.eval()\n",
        "    test_correct_predictions = 0\n",
        "    test_total_samples = 0\n",
        "    true_labels = []\n",
        "    predicted_labels = []\n",
        "\n",
        "    with torch.no_grad():\n",
        "        for X_test, y_test, _, _ in test_set:\n",
        "            X_test = X_test.unsqueeze(0)\n",
        "            outputs_test = model(X_test)\n",
        "            predictions_test = (outputs_test.squeeze() > 0.5).float()\n",
        "            test_correct_predictions += (predictions_test == y_test).sum().item()\n",
        "            test_total_samples += 1\n",
        "            true_labels.append(y_test.item())\n",
        "            predicted_labels.append(predictions_test.item())\n",
        "\n",
        "    test_accuracy = test_correct_predictions / test_total_samples\n",
        "    test_accuracies.append(test_accuracy)\n",
        "    true_labels_list.append(true_labels)\n",
        "    predicted_labels_list.append(predicted_labels)\n",
        "\n",
        "    results.append({\n",
        "        'val_accuracies': val_accuracies,\n",
        "        'test_accuracy': test_accuracy,\n",
        "        'true_labels': true_labels_list,\n",
        "        'predicted_labels': predicted_labels_list\n",
        "    })\n",
        "    print(ys_pair)\n",
        "for i, result in enumerate(results):\n",
        "    print(f'YS pair {i+1} - Test Accuracy: {result[\"test_accuracy\"]:.5f}, Validation Accuracies: {result[\"val_accuracies\"]}')\n"
      ],
      "metadata": {
        "id": "WKIcM3yHvSdC",
        "outputId": "1bff3593-e964-4df3-b3ac-79906d8ec694",
        "colab": {
          "base_uri": "https://localhost:8080/"
        }
      },
      "execution_count": 27,
      "outputs": [
        {
          "output_type": "stream",
          "name": "stdout",
          "text": [
            "[0, 2]\n",
            "[0, 3]\n",
            "[0, 4]\n",
            "[1, 3]\n",
            "[1, 4]\n",
            "[1, 5]\n",
            "[2, 4]\n",
            "[2, 5]\n",
            "[2, 6]\n",
            "YS pair 1 - Test Accuracy: 0.74561, Validation Accuracies: [0.6194690265486725, 0.672566371681416, 0.6460176991150443, 0.5929203539823009, 0.6194690265486725, 0.6371681415929203, 0.6283185840707964, 0.6637168141592921, 0.6371681415929203, 0.6460176991150443, 0.6371681415929203, 0.6548672566371682, 0.6460176991150443, 0.6460176991150443, 0.6548672566371682, 0.6460176991150443, 0.6460176991150443, 0.6283185840707964, 0.6283185840707964, 0.6460176991150443]\n",
            "YS pair 2 - Test Accuracy: 0.79832, Validation Accuracies: [0.711864406779661, 0.7372881355932204, 0.7542372881355932, 0.7542372881355932, 0.7627118644067796, 0.7372881355932204, 0.7627118644067796, 0.7711864406779662, 0.7542372881355932, 0.7372881355932204, 0.7203389830508474, 0.7203389830508474, 0.7033898305084746, 0.7033898305084746, 0.6779661016949152, 0.711864406779661, 0.7033898305084746, 0.7033898305084746, 0.7033898305084746, 0.6949152542372882]\n",
            "YS pair 3 - Test Accuracy: 0.76423, Validation Accuracies: [0.7355371900826446, 0.743801652892562, 0.743801652892562, 0.7355371900826446, 0.7272727272727273, 0.7272727272727273, 0.7272727272727273, 0.7272727272727273, 0.7355371900826446, 0.7355371900826446, 0.7355371900826446, 0.7272727272727273, 0.7272727272727273, 0.7272727272727273, 0.7272727272727273, 0.7272727272727273, 0.7272727272727273, 0.7272727272727273, 0.7272727272727273, 0.7272727272727273]\n",
            "YS pair 4 - Test Accuracy: 0.73451, Validation Accuracies: [0.6785714285714286, 0.6785714285714286, 0.6785714285714286, 0.6785714285714286, 0.6785714285714286, 0.6785714285714286, 0.6785714285714286, 0.6785714285714286, 0.6785714285714286, 0.6785714285714286, 0.6785714285714286, 0.6785714285714286, 0.6785714285714286, 0.6785714285714286, 0.6785714285714286, 0.6785714285714286, 0.6785714285714286, 0.6785714285714286, 0.6785714285714286, 0.6785714285714286]\n",
            "YS pair 5 - Test Accuracy: 0.72269, Validation Accuracies: [0.6694915254237288, 0.6694915254237288, 0.6694915254237288, 0.6694915254237288, 0.6694915254237288, 0.6694915254237288, 0.6694915254237288, 0.6694915254237288, 0.6694915254237288, 0.6694915254237288, 0.6694915254237288, 0.6694915254237288, 0.6694915254237288, 0.6694915254237288, 0.6694915254237288, 0.6694915254237288, 0.6694915254237288, 0.6694915254237288, 0.6694915254237288, 0.6694915254237288]\n",
            "YS pair 6 - Test Accuracy: 0.72034, Validation Accuracies: [0.6837606837606838, 0.6837606837606838, 0.6837606837606838, 0.6837606837606838, 0.6837606837606838, 0.6837606837606838, 0.6837606837606838, 0.6837606837606838, 0.6837606837606838, 0.6837606837606838, 0.6837606837606838, 0.6837606837606838, 0.6837606837606838, 0.6837606837606838, 0.6837606837606838, 0.6837606837606838, 0.6837606837606838, 0.6837606837606838, 0.6837606837606838, 0.6837606837606838]\n",
            "YS pair 7 - Test Accuracy: 0.65179, Validation Accuracies: [0.6909090909090909, 0.6909090909090909, 0.6909090909090909, 0.6909090909090909, 0.6909090909090909, 0.6909090909090909, 0.6909090909090909, 0.6909090909090909, 0.6909090909090909, 0.6909090909090909, 0.6909090909090909, 0.6909090909090909, 0.6909090909090909, 0.6909090909090909, 0.6909090909090909, 0.6909090909090909, 0.6909090909090909, 0.6909090909090909, 0.6909090909090909, 0.6909090909090909]\n",
            "YS pair 8 - Test Accuracy: 0.69492, Validation Accuracies: [0.6724137931034483, 0.6724137931034483, 0.6724137931034483, 0.6724137931034483, 0.6724137931034483, 0.6724137931034483, 0.6724137931034483, 0.6724137931034483, 0.6724137931034483, 0.6724137931034483, 0.6724137931034483, 0.6724137931034483, 0.6724137931034483, 0.6724137931034483, 0.6724137931034483, 0.6724137931034483, 0.6724137931034483, 0.6724137931034483, 0.6724137931034483, 0.6724137931034483]\n",
            "YS pair 9 - Test Accuracy: 0.67797, Validation Accuracies: [0.6837606837606838, 0.6837606837606838, 0.6837606837606838, 0.6837606837606838, 0.6837606837606838, 0.6837606837606838, 0.6837606837606838, 0.6837606837606838, 0.6837606837606838, 0.6837606837606838, 0.6837606837606838, 0.6837606837606838, 0.6837606837606838, 0.6837606837606838, 0.6837606837606838, 0.6837606837606838, 0.6837606837606838, 0.6837606837606838, 0.6837606837606838, 0.6837606837606838]\n"
          ]
        }
      ]
    },
    {
      "cell_type": "code",
      "source": [
        "AAR_scores = []\n",
        "\n",
        "for result in results:\n",
        "    val_accuracies = result['val_accuracies']\n",
        "    test_accuracy = result['test_accuracy']\n",
        "    true_labels_list = result['true_labels']\n",
        "    predicted_labels_list = result['predicted_labels']\n",
        "\n",
        "    AAR = (test_accuracy - 0.5) / (1 - 0.5)\n",
        "    AAR_scores.append(AAR)\n",
        "\n",
        "print(AAR_scores)"
      ],
      "metadata": {
        "id": "-iCYS09m9Pn5",
        "outputId": "e6c49a42-62bf-484b-aac2-6bde78c52787",
        "colab": {
          "base_uri": "https://localhost:8080/"
        }
      },
      "execution_count": 29,
      "outputs": [
        {
          "output_type": "stream",
          "name": "stdout",
          "text": [
            "[0.49122807017543857, 0.596638655462185, 0.5284552845528456, 0.46902654867256643, 0.4453781512605042, 0.44067796610169485, 0.3035714285714286, 0.38983050847457634, 0.35593220338983045]\n"
          ]
        }
      ]
    },
    {
      "cell_type": "markdown",
      "source": [
        "### Confusion Matrix"
      ],
      "metadata": {
        "id": "3v6yshe4bKIM"
      }
    },
    {
      "cell_type": "code",
      "source": [
        "cm = confusion_matrix(true_labels, predicted_labels)\n",
        "\n",
        "plt.figure(figsize=(8, 8))\n",
        "disp = ConfusionMatrixDisplay(confusion_matrix=cm, display_labels=['0', '1'])\n",
        "disp.plot(cmap=plt.cm.Blues)\n",
        "plt.title('Confusion Matrix')\n",
        "plt.show()"
      ],
      "metadata": {
        "colab": {
          "base_uri": "https://localhost:8080/",
          "height": 489
        },
        "id": "slUPSSjmY1xj",
        "outputId": "6f34c704-4dc7-461e-9faa-14c9956dcfe8"
      },
      "execution_count": null,
      "outputs": [
        {
          "output_type": "display_data",
          "data": {
            "text/plain": [
              "<Figure size 800x800 with 0 Axes>"
            ]
          },
          "metadata": {}
        },
        {
          "output_type": "display_data",
          "data": {
            "text/plain": [
              "<Figure size 640x480 with 2 Axes>"
            ],
            "image/png": "[encoded data removed]"
          },
          "metadata": {}
        }
      ]
    },
    {
      "cell_type": "markdown",
      "source": [
        "### Data summary stats"
      ],
      "metadata": {
        "id": "yanKzUsrbT1u"
      }
    },
    {
      "cell_type": "code",
      "source": [
        "years = [sample[3] for sample in random_samples]\n",
        "countries = [sample[2] for sample in random_samples]\n",
        "\n",
        "year_counts = Counter(years)\n",
        "country_counts = Counter(countries)\n",
        "\n",
        "# Plot bar chart for years\n",
        "plt.figure(figsize=(10, 6))\n",
        "plt.bar(year_counts.keys(), year_counts.values(), color='skyblue')\n",
        "plt.xlabel('Year')\n",
        "plt.ylabel('Frequency')\n",
        "plt.title('Frequency of Years in Random Samples')\n",
        "plt.xticks(rotation=45)\n",
        "plt.tight_layout()\n",
        "plt.show()\n",
        "\n",
        "# Plot bar chart for countries\n",
        "top_countries = country_counts.most_common(20)  # Top 10 most common countries\n",
        "plt.figure(figsize=(10, 6))\n",
        "plt.bar([country[0] for country in top_countries], [country[1] for country in top_countries], color='lightgreen')\n",
        "plt.xlabel('Country')\n",
        "plt.ylabel('Frequency')\n",
        "plt.title('Top 10 Most Common Countries in Random Samples')\n",
        "plt.xticks(rotation=45)\n",
        "plt.tight_layout()\n",
        "plt.show()\n",
        "\n",
        "# Other summary statistics\n",
        "total_samples = len(random_samples)\n",
        "num_unique_years = len(year_counts)\n",
        "num_unique_countries = len(country_counts)\n",
        "print(f'Total number of samples: {total_samples}')\n",
        "print(f'Number of unique years: {num_unique_years}')\n",
        "print(f'Number of unique countries: {num_unique_countries}')"
      ],
      "metadata": {
        "colab": {
          "base_uri": "https://localhost:8080/",
          "height": 1000
        },
        "id": "N47CO6aAaNR5",
        "outputId": "73d883b5-74df-4dd0-ed78-e4fc7cc986f0"
      },
      "execution_count": null,
      "outputs": [
        {
          "output_type": "display_data",
          "data": {
            "text/plain": [
              "<Figure size 1000x600 with 1 Axes>"
            ],
            "image/png": "[encoded data removed]"
          },
          "metadata": {}
        },
        {
          "output_type": "display_data",
          "data": {
            "text/plain": [
              "<Figure size 1000x600 with 1 Axes>"
            ],
            "image/png": "[encoded data removed]"
          },
          "metadata": {}
        },
        {
          "output_type": "stream",
          "name": "stdout",
          "text": [
            "Total number of samples: 922\n",
            "Number of unique years: 69\n",
            "Number of unique countries: 135\n"
          ]
        }
      ]
    }
  ],
  "metadata": {
    "colab": {
      "provenance": [],
      "gpuType": "T4",
      "authorship_tag": "ABX9TyNZSQi+ftz6KEN0eBt4xwHV",
      "include_colab_link": true
    },
    "kernelspec": {
      "display_name": "Python 3",
      "name": "python3"
    },
    "language_info": {
      "name": "python"
    },
    "accelerator": "GPU"
  },
  "nbformat": 4,
  "nbformat_minor": 0
}